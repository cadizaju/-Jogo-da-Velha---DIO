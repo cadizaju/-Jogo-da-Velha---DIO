{
  "nbformat": 4,
  "nbformat_minor": 0,
  "metadata": {
    "colab": {
      "provenance": [],
      "authorship_tag": "ABX9TyNI0oZWkXv3DEx6OrEXUXJq",
      "include_colab_link": true
    },
    "kernelspec": {
      "name": "python3",
      "display_name": "Python 3"
    },
    "language_info": {
      "name": "python"
    }
  },
  "cells": [
    {
      "cell_type": "markdown",
      "metadata": {
        "id": "view-in-github",
        "colab_type": "text"
      },
      "source": [
        "<a href=\"https://colab.research.google.com/github/cadizaju/-Jogo-da-Velha---DIO/blob/main/Untitled0.ipynb\" target=\"_parent\"><img src=\"https://colab.research.google.com/assets/colab-badge.svg\" alt=\"Open In Colab\"/></a>"
      ]
    },
    {
      "cell_type": "code",
      "execution_count": 18,
      "metadata": {
        "id": "hi_55JJHgRd9",
        "colab": {
          "base_uri": "https://localhost:8080/"
        },
        "outputId": "b247a786-7854-4ea0-eba2-2d1d5f8cd818"
      },
      "outputs": [
        {
          "output_type": "stream",
          "name": "stdout",
          "text": [
            "2\n",
            "4\n",
            "6\n"
          ]
        }
      ],
      "source": [
        "# print('Olá Mundo')\n",
        "# a = 3;b = 4\n",
        "# sub = a - b\n",
        "# soma = a + b\n",
        "# div = a / b\n",
        "# mult = a * b\n",
        "\n",
        "# display(soma)\n",
        "# display(sub)\n",
        "# display(mult)\n",
        "# display(div)\n",
        "\n",
        "# a = '1'\n",
        "# b = \"1\"\n",
        "# print(a + b)\n",
        "\n",
        "# a = 6\n",
        "# b = 3\n",
        "# a /= 2 * b\n",
        "# print(a)\n",
        "\n",
        "# print(\"Conta-me qualquer coisa...\")\n",
        "# anything = input()\n",
        "# print(\"Hum...\", anything, \"... Realmente?\")\n",
        "\n",
        "# anything = input(\"Conta-me qualquer coisa...\")\n",
        "# print(\"Hum...\", anything, \"...Realmente?\")\n",
        "\n",
        "# anything = float(input(\"Digite um número: \"))\n",
        "# something = anything ** 2.0\n",
        "# print(anything, \"elevado a 2 é\", something)\n",
        "\n",
        "#medindo a hipotenuza\n",
        "# leg_a = float(input(\"Insira o comprimento do lado A: \"))\n",
        "# leg_b = float(input(\"Insira o comprimento do lado B: \"))\n",
        "# hypo = (leg_a**2 + leg_b**2) ** .5\n",
        "# print(\"O comprimento da hipotenusa é\", hypo)\n",
        "\n",
        "#Conccatenado textos\n",
        "# fnam = input(\"Posso ter seu primeiro nome, por favor? \")\n",
        "# lnam = input(\"Posso ter seu sobrenome, por favor? \")\n",
        "# print(\"Obrigado!.\")\n",
        "# print(\"\\nSeu nome é \" + fnam + \" \" + lnam + \".\")\n",
        "\n",
        "#Replicando\n",
        "# print(\"+\" + 10 * \"-\" + \"+\")\n",
        "# print((\"|\" + \" \" * 10 + \"|\\n\") * 5, end=\"\")\n",
        "# print(\"+\" + 10 * \"-\" + \"+\")\n",
        "\n",
        "# name = input(\"Digite seu nome: \")\n",
        "# print(\"Olá, \" + name + \". Prazer em conhecê-lo!\")\n",
        "\n",
        "# print(\"\\nPressione Enter para finalizar o programa.\")\n",
        "# input()\n",
        "# print(\"O FIM.\")\n",
        "\n",
        "# num_1 = input(\"Digite o primeiro número: \") # Digite 12\n",
        "# num_2 = input(\"Digite o segundo número: \") # Digite 21\n",
        "# print(num_1 + num_2) # o programa retorna 1221\n",
        "\n",
        "# my_input = input(\"Enter something: \") # Exemplo de entrada: Olá\n",
        "# print(my_input * 3) # Saída esperada: OláOláOlá\n",
        "\n",
        "# x = int(input(\"Digite um número: \")) # O usuário digita 2\n",
        "# print(x * \"5\")\n",
        "\n",
        "# x = input(\"Digite um número: \") # O usuário digita 2\n",
        "# print(type(x))\n",
        "\n",
        "\n",
        "# a = 1 // 2 * 3\n",
        "# print(a)\n",
        "\n",
        "# x = 1\n",
        "# y = 2\n",
        "# z = x\n",
        "# x = y\n",
        "# y = z\n",
        "# print(x, y)\n",
        "\n",
        "# x = input()\n",
        "# y = input()\n",
        "# print(x + y)\n",
        "\n",
        "# x = int(input())\n",
        "# y = int(input())\n",
        "# x = x // y\n",
        "# y = y // x\n",
        "# print(y)\n",
        "\n",
        "# x = int(input())\n",
        "# y = int(input())\n",
        "# x = x / y\n",
        "# y = y / x\n",
        "# print(y)\n",
        "\n",
        "# x = int(input())\n",
        "# y = int(input())\n",
        "# x = x % y\n",
        "# x = x % y\n",
        "# y = y % x\n",
        "# print(y)\n",
        "\n",
        "# x = input()\n",
        "# y = int(input())\n",
        "# print(x * y)\n",
        "\n",
        "# z = y = x = 1\n",
        "# print(x, y, z, sep='*')\n",
        "\n",
        "# y = 2 + 3 * 5.\n",
        "# print(Y)\n",
        "\n",
        "# x = 1 / 2 + 3 // 3 + 4 ** 2\n",
        "# print(x)\n",
        "\n",
        "x = int(input())\n",
        "y = int(input())\n",
        "print(x + y)\n"
      ]
    },
    {
      "cell_type": "code",
      "source": [],
      "metadata": {
        "id": "lWzJVDNyZXyV"
      },
      "execution_count": null,
      "outputs": []
    },
    {
      "cell_type": "markdown",
      "source": [],
      "metadata": {
        "id": "qzogigXEZXM2"
      }
    }
  ]
}